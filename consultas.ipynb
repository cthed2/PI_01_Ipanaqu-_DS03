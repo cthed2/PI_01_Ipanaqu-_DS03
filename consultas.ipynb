{
 "cells": [
  {
   "cell_type": "code",
   "execution_count": 2,
   "metadata": {},
   "outputs": [],
   "source": [
    "import pandas as pd\n",
    "import numpy as np"
   ]
  },
  {
   "cell_type": "markdown",
   "metadata": {},
   "source": [
    "### Consulta 1: Año con más carreras"
   ]
  },
  {
   "cell_type": "code",
   "execution_count": 198,
   "metadata": {},
   "outputs": [
    {
     "data": {
      "text/plain": [
       "2021"
      ]
     },
     "execution_count": 198,
     "metadata": {},
     "output_type": "execute_result"
    }
   ],
   "source": [
    "races = pd.read_csv(\"data_normalizada/races.csv\")\n",
    "a = races[\"year\"].value_counts().head(1)\n",
    "cantidad_de_races = a.tolist()\n",
    "cantidad_de_races = cantidad_de_races[0]\n",
    "cantidad_de_races\n",
    "year = list(a.index.values)\n",
    "year = year[0]\n",
    "year"
   ]
  },
  {
   "cell_type": "markdown",
   "metadata": {},
   "source": [
    "### Consulta 2: Piloto con mayor cantidad de primeros puestos."
   ]
  },
  {
   "cell_type": "code",
   "execution_count": 200,
   "metadata": {},
   "outputs": [
    {
     "data": {
      "text/plain": [
       "code  surname \n",
       "HAM   Hamilton    95\n",
       "dtype: int64"
      ]
     },
     "execution_count": 200,
     "metadata": {},
     "output_type": "execute_result"
    }
   ],
   "source": [
    "results = pd.read_csv(\"data_normalizada/results.csv\")\n",
    "results = results[[\"positionOrder\",\"driverId\"]]\n",
    "\n",
    "drivers = pd.read_csv(\"data_normalizada/drivers.csv\")\n",
    "drivers = drivers[[\"driverId\",\"code\",\"surname\"]]\n",
    "\n",
    "df = results.merge(drivers)\n",
    "\n",
    "mask = df[\"positionOrder\"] == 1\n",
    "df = df[mask]\n",
    "df[[\"code\",\"surname\"]].value_counts().head(1)"
   ]
  },
  {
   "cell_type": "markdown",
   "metadata": {},
   "source": [
    "### Consulta 3: Nombre del circuito más recorrido"
   ]
  },
  {
   "cell_type": "code",
   "execution_count": 199,
   "metadata": {},
   "outputs": [
    {
     "data": {
      "text/plain": [
       "circuitId  name                        \n",
       "14         Autodromo Nazionale di Monza    71\n",
       "dtype: int64"
      ]
     },
     "execution_count": 199,
     "metadata": {},
     "output_type": "execute_result"
    }
   ],
   "source": [
    "circuits = pd.read_csv(\"data_normalizada/circuits.csv\")\n",
    "circuits = circuits[[\"circuitId\",\"name\"]]\n",
    "races = pd.read_csv(\"data_normalizada/races.csv\")\n",
    "races = races [[\"Unnamed: 0\",\"circuitId\"]]\n",
    "\n",
    "races[\"Unnamed: 0\"] = races[\"Unnamed: 0\"] = 1\n",
    "\n",
    "df = races.merge(circuits)\n",
    "\n",
    "df[[\"circuitId\",\"name\"]].value_counts().head(1)\n"
   ]
  },
  {
   "cell_type": "markdown",
   "metadata": {},
   "source": [
    "### Consulta 4: Piloto con mayor cantidad de puntos en total, cuyo constructor sea de nacionalidad sea American o British"
   ]
  },
  {
   "cell_type": "code",
   "execution_count": 211,
   "metadata": {},
   "outputs": [
    {
     "data": {
      "text/plain": [
       "surname\n",
       "Button    1154.0\n",
       "Name: points, dtype: float64"
      ]
     },
     "execution_count": 211,
     "metadata": {},
     "output_type": "execute_result"
    }
   ],
   "source": [
    "results = pd.read_csv(\"data_normalizada/results.csv\")\n",
    "results = results[[\"constructorId\",\"driverId\",\"points\"]]\n",
    "\n",
    "constructors = pd.read_csv(\"data_normalizada/constructors.csv\")\n",
    "constructors = constructors[[\"constructorId\",\"name\",\"nationality\"]]\n",
    "\n",
    "drivers = pd.read_csv(\"data_normalizada/drivers.csv\")\n",
    "drivers = drivers[[\"driverId\",\"surname\"]]\n",
    "\n",
    "\n",
    "df = results.merge(constructors)\n",
    "df = df.merge(drivers)\n",
    "\n",
    "mask4 = (df[\"nationality\"] == \"British\") | (df[\"nationality\"] == \"American\")\n",
    "df = df[mask4]\n",
    "\n",
    "df = df[[\"surname\",\"points\"]]\n",
    "\n",
    "df.groupby([\"surname\"])[\"points\"].sum().sort_values(ascending = False).head(1)\n"
   ]
  }
 ],
 "metadata": {
  "kernelspec": {
   "display_name": "Python 3.10.4 64-bit",
   "language": "python",
   "name": "python3"
  },
  "language_info": {
   "codemirror_mode": {
    "name": "ipython",
    "version": 3
   },
   "file_extension": ".py",
   "mimetype": "text/x-python",
   "name": "python",
   "nbconvert_exporter": "python",
   "pygments_lexer": "ipython3",
   "version": "3.10.4"
  },
  "orig_nbformat": 4,
  "vscode": {
   "interpreter": {
    "hash": "b9e6f0372556cc8639d21e94a77fd63dc6de2746dbd109d616677d40674a02dc"
   }
  }
 },
 "nbformat": 4,
 "nbformat_minor": 2
}
