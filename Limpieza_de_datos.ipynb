{
 "cells": [
  {
   "cell_type": "code",
   "execution_count": 53,
   "metadata": {},
   "outputs": [],
   "source": [
    "from encontrar_vacios_1 import encontrar_vacios_1\n",
    "from encontrar_vacios_2 import encontrar_vacios_2\n"
   ]
  },
  {
   "cell_type": "code",
   "execution_count": 62,
   "metadata": {},
   "outputs": [],
   "source": [
    "import pandas as pd\n",
    "import numpy as np\n",
    "import os\n",
    "os.makedirs('data_normalizada', exist_ok=True)"
   ]
  },
  {
   "cell_type": "code",
   "execution_count": 55,
   "metadata": {},
   "outputs": [],
   "source": [
    "circuits = pd.read_csv(\"data/circuits.csv\")\n",
    "\n",
    "circuits = encontrar_vacios_1(circuits)\n",
    "circuits = encontrar_vacios_2(circuits)\n",
    "\n",
    "circuits.to_csv('data_normalizada/circuits.csv')"
   ]
  },
  {
   "cell_type": "code",
   "execution_count": 71,
   "metadata": {},
   "outputs": [],
   "source": [
    "drivers = pd.read_json(\"data/drivers.json\", lines=True)\n",
    "drivers = pd.concat([drivers.drop(['name'], axis=1),drivers['name'].apply(pd.Series)], axis=1)\n",
    "\n",
    "drivers = encontrar_vacios_1(drivers)\n",
    "drivers = encontrar_vacios_2(drivers)\n",
    "\n",
    "drivers.to_csv('data_normalizada/drivers.csv')"
   ]
  },
  {
   "cell_type": "code",
   "execution_count": 70,
   "metadata": {},
   "outputs": [],
   "source": [
    "colnames = ['raceId', 'driverId', 'lap', 'position', 'time', 'milliseconds'] \n",
    "\n",
    "lap_times_split_1 = pd.read_csv(\"data/lap_times_split_1.csv\", names = colnames , header = None)\n",
    "lap_times_split_2 = pd.read_csv(\"data/lap_times_split_2.csv\", names = colnames , header = None)\n",
    "lap_times_split_3 = pd.read_csv(\"data/lap_times_split_3.csv\", names = colnames , header = None)\n",
    "lap_times_split_4 = pd.read_csv(\"data/lap_times_split_4.csv\", names = colnames , header = None)\n",
    "lap_times_split_5 = pd.read_csv(\"data/lap_times_split_5.csv\", names = colnames , header = None)\n",
    "\n",
    "lap_times=pd.concat([lap_times_split_1, lap_times_split_2, lap_times_split_3, lap_times_split_4, lap_times_split_5], axis=0)\n",
    "\n",
    "lap_times = encontrar_vacios_1(lap_times)\n",
    "lap_times = encontrar_vacios_2(lap_times)\n",
    "\n",
    "lap_times.to_csv('data_normalizada/lap_times.csv')\n"
   ]
  },
  {
   "cell_type": "code",
   "execution_count": 69,
   "metadata": {},
   "outputs": [],
   "source": [
    "constructors = pd.read_json(\"data/constructors.json\", lines=True)\n",
    "\n",
    "constructors = encontrar_vacios_1(constructors)\n",
    "constructors = encontrar_vacios_2(constructors)\n",
    "\n",
    "constructors.to_csv('data_normalizada/constructors.csv')"
   ]
  },
  {
   "cell_type": "code",
   "execution_count": 73,
   "metadata": {},
   "outputs": [],
   "source": [
    "pit_stops = pd.read_json(\"data/pit_stops.json\")\n",
    "\n",
    "pit_stops = encontrar_vacios_1(pit_stops)\n",
    "pit_stops = encontrar_vacios_2(pit_stops)\n",
    "\n",
    "pit_stops = pit_stops [[\"raceId\",\"driverId\",\"stop\",\"lap\",\"time\",\"milliseconds\"]]\n",
    "\n",
    "pit_stops.to_csv('data_normalizada/pit_stops.csv')"
   ]
  },
  {
   "cell_type": "code",
   "execution_count": 67,
   "metadata": {},
   "outputs": [],
   "source": [
    "races = pd.read_csv(\"data/races.csv\")\n",
    "\n",
    "races = encontrar_vacios_1(races)\n",
    "races = encontrar_vacios_2(races)\n",
    "\n",
    "races.to_csv('data_normalizada/races.csv')"
   ]
  },
  {
   "cell_type": "code",
   "execution_count": 66,
   "metadata": {},
   "outputs": [],
   "source": [
    "results = pd.read_json(\"data/results.json\", lines=True)\n",
    "\n",
    "results = encontrar_vacios_1(results)\n",
    "results = encontrar_vacios_2(results)\n",
    "\n",
    "results.to_csv('data_normalizada/results.csv')"
   ]
  },
  {
   "cell_type": "code",
   "execution_count": 65,
   "metadata": {},
   "outputs": [],
   "source": [
    "qualifying_split_1 = pd.read_json(\"data/qualifying_split_1.json\")\n",
    "qualifying_split_2 = pd.read_json(\"data/qualifying_split_2.json\")\n",
    "\n",
    "q2 = encontrar_vacios_1(qualifying_split_2)\n",
    "q2 = encontrar_vacios_2(q2)\n",
    "q1 = encontrar_vacios_1(qualifying_split_1)\n",
    "q1 = encontrar_vacios_2(q1)\n",
    "\n",
    "quelifying_split = pd.concat([q1,q2], axis=0)\n",
    "q = quelifying_split\n",
    "\n",
    "q[\"q1\"] = q[\"q1\"].fillna(\"0:0.0\")\n",
    "q[\"q2\"] = q[\"q2\"].fillna(\"0:0.0\")\n",
    "q[\"q3\"] = q[\"q3\"].fillna(\"0:0.0\")\n",
    "\n",
    "q[\"q1\"] = pd.to_datetime(q['q1'], format='%M:%S.%f')\n",
    "q[\"q2\"] = pd.to_datetime(q['q2'], format='%M:%S.%f')\n",
    "q[\"q3\"] = pd.to_datetime(q['q3'], format='%M:%S.%f')\n",
    "\n",
    "q.to_csv('data_normalizada/quelifying.csv')"
   ]
  }
 ],
 "metadata": {
  "kernelspec": {
   "display_name": "Python 3.10.4 64-bit",
   "language": "python",
   "name": "python3"
  },
  "language_info": {
   "codemirror_mode": {
    "name": "ipython",
    "version": 3
   },
   "file_extension": ".py",
   "mimetype": "text/x-python",
   "name": "python",
   "nbconvert_exporter": "python",
   "pygments_lexer": "ipython3",
   "version": "3.10.4"
  },
  "orig_nbformat": 4,
  "vscode": {
   "interpreter": {
    "hash": "b9e6f0372556cc8639d21e94a77fd63dc6de2746dbd109d616677d40674a02dc"
   }
  }
 },
 "nbformat": 4,
 "nbformat_minor": 2
}
